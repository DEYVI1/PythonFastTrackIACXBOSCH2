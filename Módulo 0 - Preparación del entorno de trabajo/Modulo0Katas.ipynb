{
 "cells": [
  {
   "attachments": {
    "e21c11b5-dbeb-4b08-85a0-9dec2a3e2c00.svg": {
     "image/svg+xml": [
      "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"
     ]
    }
   },
   "cell_type": "markdown",
   "metadata": {
    "slideshow": {
     "slide_type": "slide"
    }
   },
   "source": [
    "# ![logo-vertical.svg](attachment:e21c11b5-dbeb-4b08-85a0-9dec2a3e2c00.svg)# Ejercicio: crea y ejecuta tu notebook\n",
    "\n",
    "Primero instalamos la biblioteca:"
   ]
  },
  {
   "cell_type": "code",
   "execution_count": 32,
   "metadata": {
    "slideshow": {
     "slide_type": "subslide"
    }
   },
   "outputs": [
    {
     "name": "stdout",
     "output_type": "stream",
     "text": [
      "Requirement already satisfied: pandas in c:\\users\\deyvi\\downloads\\pythonfasttrackiacxbosch2\\.env\\lib\\site-packages (2.0.3)\n",
      "Requirement already satisfied: python-dateutil>=2.8.2 in c:\\users\\deyvi\\downloads\\pythonfasttrackiacxbosch2\\.env\\lib\\site-packages (from pandas) (2.8.2)\n",
      "Requirement already satisfied: pytz>=2020.1 in c:\\users\\deyvi\\downloads\\pythonfasttrackiacxbosch2\\.env\\lib\\site-packages (from pandas) (2023.3)\n",
      "Requirement already satisfied: tzdata>=2022.1 in c:\\users\\deyvi\\downloads\\pythonfasttrackiacxbosch2\\.env\\lib\\site-packages (from pandas) (2023.3)\n",
      "Requirement already satisfied: numpy>=1.21.0 in c:\\users\\deyvi\\downloads\\pythonfasttrackiacxbosch2\\.env\\lib\\site-packages (from pandas) (1.25.0)\n",
      "Requirement already satisfied: six>=1.5 in c:\\users\\deyvi\\downloads\\pythonfasttrackiacxbosch2\\.env\\lib\\site-packages (from python-dateutil>=2.8.2->pandas) (1.16.0)\n",
      "Requirement already satisfied: ipywidgets in c:\\users\\deyvi\\downloads\\pythonfasttrackiacxbosch2\\.env\\lib\\site-packages (8.0.6)\n",
      "Requirement already satisfied: ipykernel>=4.5.1 in c:\\users\\deyvi\\downloads\\pythonfasttrackiacxbosch2\\.env\\lib\\site-packages (from ipywidgets) (6.23.3)\n",
      "Requirement already satisfied: ipython>=6.1.0 in c:\\users\\deyvi\\downloads\\pythonfasttrackiacxbosch2\\.env\\lib\\site-packages (from ipywidgets) (8.14.0)\n",
      "Requirement already satisfied: traitlets>=4.3.1 in c:\\users\\deyvi\\downloads\\pythonfasttrackiacxbosch2\\.env\\lib\\site-packages (from ipywidgets) (5.9.0)\n",
      "Requirement already satisfied: widgetsnbextension~=4.0.7 in c:\\users\\deyvi\\downloads\\pythonfasttrackiacxbosch2\\.env\\lib\\site-packages (from ipywidgets) (4.0.7)\n",
      "Requirement already satisfied: jupyterlab-widgets~=3.0.7 in c:\\users\\deyvi\\downloads\\pythonfasttrackiacxbosch2\\.env\\lib\\site-packages (from ipywidgets) (3.0.7)\n",
      "Requirement already satisfied: comm>=0.1.1 in c:\\users\\deyvi\\downloads\\pythonfasttrackiacxbosch2\\.env\\lib\\site-packages (from ipykernel>=4.5.1->ipywidgets) (0.1.3)\n",
      "Requirement already satisfied: debugpy>=1.6.5 in c:\\users\\deyvi\\downloads\\pythonfasttrackiacxbosch2\\.env\\lib\\site-packages (from ipykernel>=4.5.1->ipywidgets) (1.6.7)\n",
      "Requirement already satisfied: jupyter-client>=6.1.12 in c:\\users\\deyvi\\downloads\\pythonfasttrackiacxbosch2\\.env\\lib\\site-packages (from ipykernel>=4.5.1->ipywidgets) (8.3.0)\n",
      "Requirement already satisfied: jupyter-core!=5.0.*,>=4.12 in c:\\users\\deyvi\\downloads\\pythonfasttrackiacxbosch2\\.env\\lib\\site-packages (from ipykernel>=4.5.1->ipywidgets) (5.3.1)\n",
      "Requirement already satisfied: matplotlib-inline>=0.1 in c:\\users\\deyvi\\downloads\\pythonfasttrackiacxbosch2\\.env\\lib\\site-packages (from ipykernel>=4.5.1->ipywidgets) (0.1.6)\n",
      "Requirement already satisfied: nest-asyncio in c:\\users\\deyvi\\downloads\\pythonfasttrackiacxbosch2\\.env\\lib\\site-packages (from ipykernel>=4.5.1->ipywidgets) (1.5.6)\n",
      "Requirement already satisfied: packaging in c:\\users\\deyvi\\downloads\\pythonfasttrackiacxbosch2\\.env\\lib\\site-packages (from ipykernel>=4.5.1->ipywidgets) (23.1)\n",
      "Requirement already satisfied: psutil in c:\\users\\deyvi\\downloads\\pythonfasttrackiacxbosch2\\.env\\lib\\site-packages (from ipykernel>=4.5.1->ipywidgets) (5.9.5)\n",
      "Requirement already satisfied: pyzmq>=20 in c:\\users\\deyvi\\downloads\\pythonfasttrackiacxbosch2\\.env\\lib\\site-packages (from ipykernel>=4.5.1->ipywidgets) (25.1.0)\n",
      "Requirement already satisfied: tornado>=6.1 in c:\\users\\deyvi\\downloads\\pythonfasttrackiacxbosch2\\.env\\lib\\site-packages (from ipykernel>=4.5.1->ipywidgets) (6.3.2)\n",
      "Requirement already satisfied: backcall in c:\\users\\deyvi\\downloads\\pythonfasttrackiacxbosch2\\.env\\lib\\site-packages (from ipython>=6.1.0->ipywidgets) (0.2.0)\n",
      "Requirement already satisfied: decorator in c:\\users\\deyvi\\downloads\\pythonfasttrackiacxbosch2\\.env\\lib\\site-packages (from ipython>=6.1.0->ipywidgets) (5.1.1)\n",
      "Requirement already satisfied: jedi>=0.16 in c:\\users\\deyvi\\downloads\\pythonfasttrackiacxbosch2\\.env\\lib\\site-packages (from ipython>=6.1.0->ipywidgets) (0.18.2)\n",
      "Requirement already satisfied: pickleshare in c:\\users\\deyvi\\downloads\\pythonfasttrackiacxbosch2\\.env\\lib\\site-packages (from ipython>=6.1.0->ipywidgets) (0.7.5)\n",
      "Requirement already satisfied: prompt-toolkit!=3.0.37,<3.1.0,>=3.0.30 in c:\\users\\deyvi\\downloads\\pythonfasttrackiacxbosch2\\.env\\lib\\site-packages (from ipython>=6.1.0->ipywidgets) (3.0.38)\n",
      "Requirement already satisfied: pygments>=2.4.0 in c:\\users\\deyvi\\downloads\\pythonfasttrackiacxbosch2\\.env\\lib\\site-packages (from ipython>=6.1.0->ipywidgets) (2.15.1)\n",
      "Requirement already satisfied: stack-data in c:\\users\\deyvi\\downloads\\pythonfasttrackiacxbosch2\\.env\\lib\\site-packages (from ipython>=6.1.0->ipywidgets) (0.6.2)\n",
      "Requirement already satisfied: colorama in c:\\users\\deyvi\\downloads\\pythonfasttrackiacxbosch2\\.env\\lib\\site-packages (from ipython>=6.1.0->ipywidgets) (0.4.6)\n",
      "Requirement already satisfied: parso<0.9.0,>=0.8.0 in c:\\users\\deyvi\\downloads\\pythonfasttrackiacxbosch2\\.env\\lib\\site-packages (from jedi>=0.16->ipython>=6.1.0->ipywidgets) (0.8.3)\n",
      "Requirement already satisfied: python-dateutil>=2.8.2 in c:\\users\\deyvi\\downloads\\pythonfasttrackiacxbosch2\\.env\\lib\\site-packages (from jupyter-client>=6.1.12->ipykernel>=4.5.1->ipywidgets) (2.8.2)\n",
      "Requirement already satisfied: platformdirs>=2.5 in c:\\users\\deyvi\\downloads\\pythonfasttrackiacxbosch2\\.env\\lib\\site-packages (from jupyter-core!=5.0.*,>=4.12->ipykernel>=4.5.1->ipywidgets) (3.8.0)\n",
      "Requirement already satisfied: pywin32>=300 in c:\\users\\deyvi\\downloads\\pythonfasttrackiacxbosch2\\.env\\lib\\site-packages (from jupyter-core!=5.0.*,>=4.12->ipykernel>=4.5.1->ipywidgets) (306)\n",
      "Requirement already satisfied: wcwidth in c:\\users\\deyvi\\downloads\\pythonfasttrackiacxbosch2\\.env\\lib\\site-packages (from prompt-toolkit!=3.0.37,<3.1.0,>=3.0.30->ipython>=6.1.0->ipywidgets) (0.2.6)\n",
      "Requirement already satisfied: executing>=1.2.0 in c:\\users\\deyvi\\downloads\\pythonfasttrackiacxbosch2\\.env\\lib\\site-packages (from stack-data->ipython>=6.1.0->ipywidgets) (1.2.0)\n",
      "Requirement already satisfied: asttokens>=2.1.0 in c:\\users\\deyvi\\downloads\\pythonfasttrackiacxbosch2\\.env\\lib\\site-packages (from stack-data->ipython>=6.1.0->ipywidgets) (2.2.1)\n",
      "Requirement already satisfied: pure-eval in c:\\users\\deyvi\\downloads\\pythonfasttrackiacxbosch2\\.env\\lib\\site-packages (from stack-data->ipython>=6.1.0->ipywidgets) (0.2.2)\n",
      "Requirement already satisfied: six in c:\\users\\deyvi\\downloads\\pythonfasttrackiacxbosch2\\.env\\lib\\site-packages (from asttokens>=2.1.0->stack-data->ipython>=6.1.0->ipywidgets) (1.16.0)\n"
     ]
    }
   ],
   "source": [
    "!pip install pandas\n",
    "!pip install ipywidgets"
   ]
  },
  {
   "cell_type": "code",
   "execution_count": 33,
   "metadata": {},
   "outputs": [
    {
     "data": {
      "application/vnd.jupyter.widget-view+json": {
       "model_id": "fd52e929faae4cb0871c8febe7aa310c",
       "version_major": 2,
       "version_minor": 0
      },
      "text/plain": [
       "ToggleButton(value=False, button_style='success', description='Iniciar Launch', icon='rocket', tooltip='Engage…"
      ]
     },
     "metadata": {},
     "output_type": "display_data"
    },
    {
     "data": {
      "application/vnd.jupyter.widget-view+json": {
       "model_id": "a9ddb1b8cfa046e0a9337e438c3fa3b4",
       "version_major": 2,
       "version_minor": 0
      },
      "text/plain": [
       "Output()"
      ]
     },
     "metadata": {},
     "output_type": "display_data"
    }
   ],
   "source": [
    "import ipywidgets as widgets\n",
    " \n",
    "ignition = widgets.ToggleButton(\n",
    "    value=False,\n",
    "    description='Iniciar Launch',\n",
    "    button_style='success',\n",
    "    tooltip='Engage your Launch',\n",
    "    icon='rocket'\n",
    ")\n",
    "\n",
    "output = widgets.Output()\n",
    "\n",
    "display(ignition, output)\n",
    "\n",
    "def on_value_change(change):\n",
    "    with output:\n",
    "        if change['new'] == True:\n",
    "            print(\"Nave Iniciada!\")\n",
    "        else:   \n",
    "            print(\"Nave Detenida\")\n",
    "\n",
    "ignition.observe(on_value_change, names='value')"
   ]
  },
  {
   "attachments": {},
   "cell_type": "markdown",
   "metadata": {
    "slideshow": {
     "slide_type": "slide"
    }
   },
   "source": [
    "## Ejercicio 2: Usar comandos avanzados"
   ]
  },
  {
   "cell_type": "code",
   "execution_count": 34,
   "metadata": {
    "slideshow": {
     "slide_type": "slide"
    }
   },
   "outputs": [
    {
     "name": "stdout",
     "output_type": "stream",
     "text": [
      "Requirement already satisfied: matplotlib in c:\\users\\deyvi\\downloads\\pythonfasttrackiacxbosch2\\.env\\lib\\site-packages (3.7.1)\n",
      "Requirement already satisfied: contourpy>=1.0.1 in c:\\users\\deyvi\\downloads\\pythonfasttrackiacxbosch2\\.env\\lib\\site-packages (from matplotlib) (1.1.0)\n",
      "Requirement already satisfied: cycler>=0.10 in c:\\users\\deyvi\\downloads\\pythonfasttrackiacxbosch2\\.env\\lib\\site-packages (from matplotlib) (0.11.0)\n",
      "Requirement already satisfied: fonttools>=4.22.0 in c:\\users\\deyvi\\downloads\\pythonfasttrackiacxbosch2\\.env\\lib\\site-packages (from matplotlib) (4.40.0)\n",
      "Requirement already satisfied: kiwisolver>=1.0.1 in c:\\users\\deyvi\\downloads\\pythonfasttrackiacxbosch2\\.env\\lib\\site-packages (from matplotlib) (1.4.4)\n",
      "Requirement already satisfied: numpy>=1.20 in c:\\users\\deyvi\\downloads\\pythonfasttrackiacxbosch2\\.env\\lib\\site-packages (from matplotlib) (1.25.0)\n",
      "Requirement already satisfied: packaging>=20.0 in c:\\users\\deyvi\\downloads\\pythonfasttrackiacxbosch2\\.env\\lib\\site-packages (from matplotlib) (23.1)\n",
      "Requirement already satisfied: pillow>=6.2.0 in c:\\users\\deyvi\\downloads\\pythonfasttrackiacxbosch2\\.env\\lib\\site-packages (from matplotlib) (9.5.0)\n",
      "Requirement already satisfied: pyparsing>=2.3.1 in c:\\users\\deyvi\\downloads\\pythonfasttrackiacxbosch2\\.env\\lib\\site-packages (from matplotlib) (3.1.0)\n",
      "Requirement already satisfied: python-dateutil>=2.7 in c:\\users\\deyvi\\downloads\\pythonfasttrackiacxbosch2\\.env\\lib\\site-packages (from matplotlib) (2.8.2)\n",
      "Requirement already satisfied: six>=1.5 in c:\\users\\deyvi\\downloads\\pythonfasttrackiacxbosch2\\.env\\lib\\site-packages (from python-dateutil>=2.7->matplotlib) (1.16.0)\n",
      "Requirement already satisfied: numpy in c:\\users\\deyvi\\downloads\\pythonfasttrackiacxbosch2\\.env\\lib\\site-packages (1.25.0)\n"
     ]
    }
   ],
   "source": [
    "!pip install matplotlib\n",
    "!pip install numpy"
   ]
  },
  {
   "attachments": {},
   "cell_type": "markdown",
   "metadata": {
    "slideshow": {
     "slide_type": "slide"
    }
   },
   "source": [
    "## Niveles de Oxígeno\n",
    "Muestra diez minutos de niveles de oxígeno en tu nave."
   ]
  },
  {
   "cell_type": "code",
   "execution_count": 35,
   "metadata": {
    "slideshow": {
     "slide_type": "slide"
    }
   },
   "outputs": [
    {
     "data": {
      "image/png": "[encoded data removed]",
      "text/plain": [
       "<Figure size 640x480 with 1 Axes>"
      ]
     },
     "metadata": {},
     "output_type": "display_data"
    }
   ],
   "source": [
    "import numpy as np\n",
    "import matplotlib.pyplot as plt\n",
    "data = np.random.default_rng(12345)\n",
    "oxy_nums = data.integers(low=0, high=10, size=10)\n",
    "\n",
    "plt.bar(range(len(oxy_nums)), oxy_nums)\n",
    "plt.show()"
   ]
  },
  {
   "attachments": {},
   "cell_type": "markdown",
   "metadata": {
    "slideshow": {
     "slide_type": "subslide"
    }
   },
   "source": [
    "## Velocidad de la nave\n",
    "\n",
    "Muestra los segundos necesarios para pasar de 0 a 11200 metros por segundo, dada la aceleración de la nave en metros por segundo."
   ]
  },
  {
   "cell_type": "code",
   "execution_count": 36,
   "metadata": {
    "slideshow": {
     "slide_type": "slide"
    }
   },
   "outputs": [
    {
     "name": "stdout",
     "output_type": "stream",
     "text": [
      "Tiempo para alcanzar la velocidad deseada =  1142.8571428571427\n"
     ]
    }
   ],
   "source": [
    "endVelocity = 11200\n",
    "startVelocity = 0\n",
    "acceleration = 9.8\n",
    "\n",
    "time = (endVelocity - startVelocity) / acceleration\n",
    "print(\"Tiempo para alcanzar la velocidad deseada = \", time)"
   ]
  }
 ],
 "metadata": {
  "celltoolbar": "Slideshow",
  "interpreter": {
   "hash": "502cd6c3b6c9e666d195e1caff9d64ea12bf644e547a4c8fae84812082c54b6f"
  },
  "kernelspec": {
   "display_name": "Python 3 (ipykernel)",
   "language": "python",
   "name": "python3"
  },
  "language_info": {
   "codemirror_mode": {
    "name": "ipython",
    "version": 3
   },
   "file_extension": ".py",
   "mimetype": "text/x-python",
   "name": "python",
   "nbconvert_exporter": "python",
   "pygments_lexer": "ipython3",
   "version": "3.11.4"
  }
 },
 "nbformat": 4,
 "nbformat_minor": 4
}
